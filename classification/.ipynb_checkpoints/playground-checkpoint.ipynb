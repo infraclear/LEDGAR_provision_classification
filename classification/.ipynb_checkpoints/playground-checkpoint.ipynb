{
 "cells": [
  {
   "cell_type": "code",
   "execution_count": 17,
   "id": "1a8dcaa2-e3b0-4198-906d-753d3770922d",
   "metadata": {},
   "outputs": [],
   "source": [
    "from bs4 import BeautifulSoup\n",
    "import re\n",
    "\n",
    "def get_text_from_p_elements(xml_data):\n",
    "    try:\n",
    "        # Create a BeautifulSoup object to parse the XML data\n",
    "        soup = BeautifulSoup(xml_data, 'lxml')\n",
    "\n",
    "        # Find all <p> elements and extract their text content\n",
    "        text_list = [p.get_text(strip=True) for p in soup.find_all('p')]\n",
    "        text_list = [text for text in text_list if not re.match(r'^\\s*$', text)]\n",
    "\n",
    "        return text_list\n",
    "\n",
    "    except Exception as e:\n",
    "        print(\"Error parsing the XML data:\", e)\n",
    "        return []"
   ]
  },
  {
   "cell_type": "code",
   "execution_count": 18,
   "id": "aa97b5b5-4bef-4e34-80d0-5411a184befc",
   "metadata": {},
   "outputs": [
    {
     "name": "stdout",
     "output_type": "stream",
     "text": [
      "Error parsing the XML data: Couldn't find a tree builder with the features you requested: lxml. Do you need to install a parser library?\n"
     ]
    },
    {
     "data": {
      "text/plain": [
       "[]"
      ]
     },
     "execution_count": 18,
     "metadata": {},
     "output_type": "execute_result"
    }
   ],
   "source": [
    "import json\n",
    "sec_file = open(\"../data/dex106-TEI.xml\")\n",
    "sec_data = sec_file.read()\n",
    "p_list = get_text_from_p_elements(sec_data)\n",
    "p_list[:5]"
   ]
  },
  {
   "cell_type": "code",
   "execution_count": 1,
   "id": "30de0c19-2a00-4f65-bf07-afab5d3f9333",
   "metadata": {},
   "outputs": [
    {
     "data": {
      "text/plain": [
       "'/Users/amaechiabuah/Desktop/LEDGAR_provision_classification/classification'"
      ]
     },
     "execution_count": 1,
     "metadata": {},
     "output_type": "execute_result"
    }
   ],
   "source": [
    "import os\n",
    "os.getcwd()"
   ]
  },
  {
   "cell_type": "code",
   "execution_count": 4,
   "id": "feee7383-26e6-48b0-ac11-6531348e62cb",
   "metadata": {},
   "outputs": [
    {
     "data": {
      "text/plain": [
       "<810169x38861 sparse matrix of type '<class 'numpy.float64'>'\n",
       "\twith 44056231 stored elements in Compressed Sparse Row format>"
      ]
     },
     "execution_count": 4,
     "metadata": {},
     "output_type": "execute_result"
    }
   ],
   "source": [
    "from classification_baselines import *\n",
    "\n",
    "labeled_set = {}\n",
    "corpus_file = \"../sec_corpus_2016-2019_freq100.jsonl\"\n",
    "dataset: SplitDataSet = split_corpus(corpus_file)\n",
    "mlb = MultiLabelBinarizer().fit(dataset.y_train)\n",
    "tfidfizer = TfidfVectorizer(sublinear_tf=True)\n",
    "tfidfizer.fit_transform(dataset.x_train)\n"
   ]
  },
  {
   "cell_type": "code",
   "execution_count": 5,
   "id": "32858e6a-8e8f-4498-bc4e-c4ee97ef7869",
   "metadata": {},
   "outputs": [
    {
     "ename": "NameError",
     "evalue": "name 'p_list' is not defined",
     "output_type": "error",
     "traceback": [
      "\u001b[0;31m---------------------------------------------------------------------------\u001b[0m",
      "\u001b[0;31mNameError\u001b[0m                                 Traceback (most recent call last)",
      "Cell \u001b[0;32mIn[5], line 4\u001b[0m\n\u001b[1;32m      1\u001b[0m \u001b[38;5;28;01mimport\u001b[39;00m \u001b[38;5;21;01mpickle\u001b[39;00m\n\u001b[1;32m      3\u001b[0m model \u001b[38;5;241m=\u001b[39m pickle\u001b[38;5;241m.\u001b[39mload(\u001b[38;5;28mopen\u001b[39m(\u001b[38;5;124m\"\u001b[39m\u001b[38;5;124m../saved_models/logreg_sec_corpus_2016-2019_freq100.pkl\u001b[39m\u001b[38;5;124m\"\u001b[39m, \u001b[38;5;124m\"\u001b[39m\u001b[38;5;124mrb\u001b[39m\u001b[38;5;124m\"\u001b[39m))\n\u001b[0;32m----> 4\u001b[0m p_vec \u001b[38;5;241m=\u001b[39m tfidfizer\u001b[38;5;241m.\u001b[39mtransform(\u001b[43mp_list\u001b[49m)\n\u001b[1;32m      5\u001b[0m model\u001b[38;5;241m.\u001b[39mpredict(p_vec)\n",
      "\u001b[0;31mNameError\u001b[0m: name 'p_list' is not defined"
     ]
    }
   ],
   "source": [
    "import pickle\n",
    "\n",
    "model = pickle.load(open(\"../saved_models/logreg_sec_corpus_2016-2019_freq100.pkl\", \"rb\"))\n",
    "p_vec = tfidfizer.transform(p_list)\n",
    "model.predict(p_vec)\n",
    "\n",
    "    "
   ]
  },
  {
   "cell_type": "code",
   "execution_count": null,
   "id": "39486bbe-c074-43c2-b3b3-743817dba611",
   "metadata": {},
   "outputs": [],
   "source": []
  }
 ],
 "metadata": {
  "kernelspec": {
   "display_name": ".venv",
   "language": "python",
   "name": ".venv"
  },
  "language_info": {
   "codemirror_mode": {
    "name": "ipython",
    "version": 3
   },
   "file_extension": ".py",
   "mimetype": "text/x-python",
   "name": "python",
   "nbconvert_exporter": "python",
   "pygments_lexer": "ipython3",
   "version": "3.10.11"
  }
 },
 "nbformat": 4,
 "nbformat_minor": 5
}
